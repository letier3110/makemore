{
 "cells": [
  {
   "cell_type": "code",
   "execution_count": 98,
   "metadata": {},
   "outputs": [],
   "source": [
    "import numpy as np\n",
    "import matplotlib\n",
    "import matplotlib as mpl\n",
    "import matplotlib.pyplot as plt\n",
    "%matplotlib inline"
   ]
  },
  {
   "cell_type": "code",
   "execution_count": 1,
   "metadata": {},
   "outputs": [],
   "source": [
    "words = open('names.txt', 'r').read().splitlines()"
   ]
  },
  {
   "cell_type": "code",
   "execution_count": 2,
   "metadata": {},
   "outputs": [],
   "source": [
    "chars = sorted(list(set(''.join(words))))\n",
    "stoi = {s: i+1 for i, s in enumerate(chars)}\n",
    "stoi['.'] = 0\n",
    "itos = {i: s for s, i in stoi.items()}"
   ]
  },
  {
   "cell_type": "code",
   "execution_count": 22,
   "metadata": {},
   "outputs": [],
   "source": [
    "import torch\n",
    "import torch.nn.functional as F\n",
    "from torch import Tensor"
   ]
  },
  {
   "cell_type": "code",
   "execution_count": 15,
   "metadata": {},
   "outputs": [],
   "source": [
    "block_size = 3\n",
    "X, Y = [], []\n",
    "\n",
    "for w in words:\n",
    "    context = [0] * block_size\n",
    "    for ch in w + '.':\n",
    "        ix = stoi[ch]\n",
    "        X.append(context)\n",
    "        Y.append(ix)\n",
    "\n",
    "        context = context[1:] + [ix]\n",
    "\n",
    "X = torch.tensor(X)\n",
    "Y = torch.tensor(Y)"
   ]
  },
  {
   "cell_type": "code",
   "execution_count": 82,
   "metadata": {},
   "outputs": [],
   "source": [
    "def build_dataset(words):\n",
    "  block_size = 3\n",
    "  X, Y = [], []\n",
    "\n",
    "  for w in words:\n",
    "      context = [0] * block_size\n",
    "      for ch in w + '.':\n",
    "          ix = stoi[ch]\n",
    "          X.append(context)\n",
    "          Y.append(ix)\n",
    "\n",
    "          context = context[1:] + [ix]\n",
    "\n",
    "  X = torch.tensor(X)\n",
    "  Y = torch.tensor(Y)\n",
    "  return X, Y\n",
    "\n",
    "import random\n",
    "random.seed(42)\n",
    "random.shuffle(words)\n",
    "n1 = int(0.8 * len(words))\n",
    "n2 = int(0.9 * len(words))\n",
    "\n",
    "Xtr, Ytr = build_dataset(words[:n1])\n",
    "Xdev, Ydev = build_dataset(words[n1:n2])\n",
    "Xte, Yte = build_dataset(words[n2:])"
   ]
  },
  {
   "cell_type": "code",
   "execution_count": 150,
   "metadata": {},
   "outputs": [],
   "source": [
    "g = torch.Generator().manual_seed(2147483647)\n",
    "C = torch.randn((27,10), generator=g)\n",
    "W1 = torch.randn((30, 200), generator=g)\n",
    "b1 = torch.randn(200, generator=g)\n",
    "W2 = torch.randn((200, 27), generator=g)\n",
    "b2 = torch.randn(27, generator=g)\n",
    "parameters = [C, W1, b1, W2, b2]"
   ]
  },
  {
   "cell_type": "code",
   "execution_count": 151,
   "metadata": {},
   "outputs": [
    {
     "data": {
      "text/plain": [
       "11897"
      ]
     },
     "execution_count": 151,
     "metadata": {},
     "output_type": "execute_result"
    }
   ],
   "source": [
    "sum(p.nelement() for p in parameters)"
   ]
  },
  {
   "cell_type": "code",
   "execution_count": 152,
   "metadata": {},
   "outputs": [],
   "source": [
    "for p in parameters:\n",
    "    p.requires_grad = True"
   ]
  },
  {
   "cell_type": "code",
   "execution_count": 153,
   "metadata": {},
   "outputs": [],
   "source": [
    "lre = torch.linspace(-3, 0, 1000)\n",
    "lrs = 10**lre"
   ]
  },
  {
   "cell_type": "code",
   "execution_count": 154,
   "metadata": {},
   "outputs": [],
   "source": [
    "lri = []\n",
    "lossi = []\n",
    "stepi = []"
   ]
  },
  {
   "cell_type": "code",
   "execution_count": 158,
   "metadata": {},
   "outputs": [],
   "source": [
    "def train(X, Y, parameters, batch_size=32, iterations=250000):\n",
    "  for i in range(iterations):\n",
    "\n",
    "    # minibatch construct\n",
    "    ix = torch.randint(0, X.shape[0], (batch_size,))\n",
    "\n",
    "    # forward pass\n",
    "    emb = parameters[0][X[ix]]\n",
    "    h = torch.tanh(emb.view(-1, 30) @ parameters[1] + parameters[2])\n",
    "    logits = h @ parameters[3] + parameters[4]\n",
    "    loss = F.cross_entropy(logits, Y[ix])\n",
    "\n",
    "    # backward pass\n",
    "    for p in parameters:\n",
    "      p.grad = None\n",
    "    loss.backward()\n",
    "\n",
    "    # update weights\n",
    "    # lr = lrs[i]\n",
    "    lr = 0.1\n",
    "    if(i > iterations / 2):\n",
    "      lr = 0.01\n",
    "    for p in parameters:\n",
    "      p.data += -lr * p.grad\n",
    "\n",
    "    # track stats\n",
    "    # lri.append(lre[i])\n",
    "    stepi.append(i)\n",
    "    lossi.append(loss.log10().item())\n",
    "  return parameters"
   ]
  },
  {
   "cell_type": "code",
   "execution_count": 156,
   "metadata": {},
   "outputs": [],
   "source": [
    "def stats_plot(stepi, lossi):\n",
    "    plt.plot(stepi, lossi)"
   ]
  },
  {
   "cell_type": "code",
   "execution_count": 161,
   "metadata": {},
   "outputs": [],
   "source": [
    "def benchmark(x,y, parameters):\n",
    "    emb = parameters[0][x]\n",
    "    h = torch.tanh(emb.view(-1, 30) @ parameters[1] + parameters[2])\n",
    "    logits = h @ parameters[3] + parameters[4]\n",
    "    loss = F.cross_entropy(logits, y)\n",
    "    print(loss)\n",
    "    return loss"
   ]
  },
  {
   "cell_type": "code",
   "execution_count": 115,
   "metadata": {},
   "outputs": [
    {
     "data": {
      "image/png": "[encoded data removed]",
      "text/plain": [
       "<Figure size 800x800 with 1 Axes>"
      ]
     },
     "metadata": {},
     "output_type": "display_data"
    }
   ],
   "source": [
    "plt.figure(figsize=(8,8))\n",
    "plt.scatter(C[:,0].data, C[:,1].data, s=200)\n",
    "for i in range(C.shape[0]):\n",
    "  plt.text(C[i,0].item(), C[i,1].item(), itos[i], ha=\"center\", va=\"center\", color=\"white\")\n",
    "plt.grid('minor')"
   ]
  },
  {
   "cell_type": "code",
   "execution_count": 159,
   "metadata": {},
   "outputs": [],
   "source": [
    "def predict(parameters, count=10):\n",
    "    for i in range(count):\n",
    "        out = []\n",
    "        context = [0] * block_size\n",
    "        while True:\n",
    "            emb = parameters[0][torch.tensor([context])]\n",
    "            h = torch.tanh(emb.view(1, -1) @ parameters[1] + parameters[2])\n",
    "            logits = h @ parameters[3] + parameters[4]\n",
    "            p = F.softmax(logits, dim=1)\n",
    "\n",
    "            ix = torch.multinomial(p, num_samples=1, replacement=True, generator=g).item()\n",
    "            context = context[1:] + [ix]\n",
    "            if(ix == 0):\n",
    "                break\n",
    "            out.append(ix)\n",
    "        print(''.join(itos[i] for i in out))"
   ]
  },
  {
   "cell_type": "code",
   "execution_count": 160,
   "metadata": {},
   "outputs": [
    {
     "data": {
      "text/plain": [
       "[tensor([[ 1.8497e+00,  6.3741e-01,  1.8928e-01, -7.3406e-01,  6.5976e-01,\n",
       "          -2.1963e-01, -1.8566e+00,  8.3005e-01,  2.7067e-01,  1.2777e+00],\n",
       "         [ 2.3314e-01,  7.1136e-01, -5.5476e-01, -2.5405e-01,  1.0631e+00,\n",
       "           2.9984e+00,  1.1683e+00, -9.6961e-01,  8.4399e-01, -1.2892e+00],\n",
       "         [ 6.3153e-01,  2.2633e-01, -1.2197e+00, -4.1390e-01, -3.1450e-01,\n",
       "           1.1603e+00,  1.1701e+00,  4.3394e-01,  1.4115e-04, -2.0775e-01],\n",
       "         [-2.1185e-01,  3.1134e-01,  1.6642e-01, -2.7011e-01, -1.5828e+00,\n",
       "          -2.7196e-01, -1.2393e+00,  4.9656e-01, -4.9179e-01,  1.5909e-01],\n",
       "         [ 2.8476e-01,  8.1108e-02, -5.9743e-01,  3.3014e-01, -4.2617e-01,\n",
       "           8.6934e-01,  8.5916e-01,  1.3791e-02, -2.0198e-01, -2.9865e-01],\n",
       "         [-3.6151e-01,  4.1416e-01, -1.6635e-02, -8.9387e-01, -2.4019e-01,\n",
       "           1.6544e-01,  7.6879e-01, -5.4016e-01, -8.0039e-01,  1.2455e-01],\n",
       "         [ 2.5687e-01, -7.8727e-01, -1.9596e+00, -1.1761e+00,  6.6338e-01,\n",
       "          -4.5800e-01,  2.0781e+00,  3.1159e+00, -9.2112e-01,  5.2770e-01],\n",
       "         [ 1.8391e-01,  1.6370e-01, -1.8842e-01,  3.6415e-02, -1.8333e-01,\n",
       "           6.1811e-02,  8.2350e-01,  7.6126e-01, -6.3272e-01, -3.9703e-01],\n",
       "         [-1.2904e+00,  2.5057e-01, -2.2694e-01, -4.5206e-01,  2.2913e-02,\n",
       "           5.0652e-01,  8.1436e-01,  3.4150e-01,  1.9581e-02,  2.7512e-01],\n",
       "         [-6.8196e-01,  4.8033e-01,  1.3519e-01, -5.5163e-01, -1.5436e-02,\n",
       "           4.9429e-01,  2.5548e-01, -1.1117e-01, -1.0800e+00, -2.6348e-01],\n",
       "         [-1.5880e+00, -1.0973e+00, -2.2030e+00,  2.5922e-01, -2.1126e+00,\n",
       "           9.2423e-02, -1.5921e+00, -6.2175e-01, -1.6365e+00,  1.0526e+00],\n",
       "         [-4.7778e-01, -8.8758e-03, -2.4920e-01, -1.9364e+00, -1.0621e+00,\n",
       "          -2.9119e-01, -1.4144e+00,  2.4676e-01,  7.6146e-01,  5.6176e-01],\n",
       "         [-3.9223e-01, -8.5157e-02, -2.2090e-01, -1.5993e+00, -1.0698e+00,\n",
       "           5.4519e-01, -9.7200e-01, -3.3812e-01,  7.8731e-01,  1.4816e+00],\n",
       "         [-1.1225e+00, -1.6939e-01, -1.5910e+00, -4.4607e-01,  1.8867e-01,\n",
       "           1.0451e+00,  1.1401e+00,  5.1518e-01,  3.8896e-01,  1.2327e+00],\n",
       "         [-3.8148e-01, -4.8769e-01, -5.1229e-01, -5.2222e-02,  1.2970e-01,\n",
       "           1.4073e+00,  2.2363e-01,  4.5146e-02,  1.3834e-01, -3.0356e-01],\n",
       "         [ 7.4377e-02,  3.2500e-01, -3.2286e-01, -7.5862e-01,  4.6586e-01,\n",
       "           3.1273e-01,  5.6405e-01, -6.6267e-01, -1.1960e+00, -1.5363e-01],\n",
       "         [ 1.4186e-01,  3.6661e-01, -5.6469e-01, -2.9341e-01, -5.7568e-01,\n",
       "          -4.2033e-02,  9.7712e-01,  5.2710e-01,  1.5186e-01, -3.4792e-01],\n",
       "         [ 5.2564e-02,  1.1508e+00, -3.8088e-02,  9.1316e-01, -1.2604e+00,\n",
       "          -2.4586e-01, -7.2565e-01,  5.1226e-01,  2.0998e+00,  5.4692e-01],\n",
       "         [ 2.2503e-01, -4.9108e-01, -2.7742e-01, -1.4440e-01, -1.2216e-01,\n",
       "           1.0666e+00,  8.5943e-01,  1.5146e-01,  8.0393e-03,  8.3926e-02],\n",
       "         [-1.5321e-01,  5.4687e-01, -1.4023e-01,  1.8270e-01, -2.9710e-01,\n",
       "          -1.0276e-02,  4.5566e-01, -9.5248e-02,  1.9287e-01, -1.5551e-02],\n",
       "         [ 1.6757e-01,  1.3848e-01, -3.0526e-01, -9.2986e-02, -5.2760e-01,\n",
       "           5.0086e-01,  6.1719e-01, -5.4679e-02,  6.2109e-02, -6.3151e-01],\n",
       "         [-3.0010e-01,  8.1768e-01, -3.2333e-03, -7.1565e-01,  2.9385e-01,\n",
       "           2.1776e-01,  6.0657e-01, -2.3806e-02, -1.3691e+00,  1.8260e-01],\n",
       "         [-1.7776e-02, -3.8526e-01, -8.5734e-01,  4.1437e-01, -6.5658e-01,\n",
       "           5.8943e-01,  1.0062e+00,  3.8640e-01, -2.3900e-01,  3.2657e-01],\n",
       "         [-1.3610e-01, -2.7388e-01,  5.7113e-02, -6.0134e-01,  2.1136e-01,\n",
       "           4.2727e-01,  9.1311e-01,  1.1943e+00, -2.4790e-01, -1.5993e-01],\n",
       "         [-1.2500e-01,  9.8579e-02,  2.8731e-01, -5.9725e-01, -3.0824e-01,\n",
       "           3.1966e-01,  3.1603e-01,  2.3148e-01,  2.5729e-01, -2.7201e-01],\n",
       "         [-8.3056e-01,  1.0946e-01,  3.9628e-02, -8.0422e-01,  4.2157e-01,\n",
       "           2.1557e-01,  2.3219e-01, -1.1831e-01, -5.2324e-01, -4.6418e-01],\n",
       "         [-3.2104e-01,  3.7443e-01, -3.8641e-01,  2.2461e-02, -3.5653e-02,\n",
       "           4.5289e-01,  6.5757e-01,  7.1548e-02,  3.0713e-01,  1.6761e-01]],\n",
       "        requires_grad=True),\n",
       " tensor([[-0.3419, -0.4713, -2.0200,  ..., -0.0515,  1.7725,  0.4877],\n",
       "         [-0.7225, -1.5826, -0.4425,  ...,  0.6739, -0.6903,  0.3795],\n",
       "         [-1.3139,  2.7351, -0.6202,  ...,  0.7065, -0.3601, -0.4859],\n",
       "         ...,\n",
       "         [ 0.6691,  0.1683, -0.7017,  ..., -0.5831,  0.4317,  0.0986],\n",
       "         [-1.5136,  0.2722,  1.5014,  ...,  3.6362,  0.3749, -1.6967],\n",
       "         [-2.0187,  1.4505, -0.5334,  ...,  0.3286, -0.6635, -1.0684]],\n",
       "        requires_grad=True),\n",
       " tensor([-3.2547e+00, -1.4619e+00, -7.3774e-01,  1.8711e+00, -7.4829e-01,\n",
       "          1.3243e+00, -5.5291e-02, -1.5294e+00, -1.3855e+00,  1.0811e+00,\n",
       "          1.1079e+00, -6.2632e-01,  2.9120e-01,  2.9404e+00,  1.8948e+00,\n",
       "         -3.6313e-01,  5.6313e-02, -1.2122e+00, -1.4982e+00,  2.0834e+00,\n",
       "         -5.1810e-02,  1.2395e+00,  5.7532e-01, -6.2996e-01,  1.5002e+00,\n",
       "          2.1682e+00,  1.7183e+00,  5.1990e-02,  9.4592e-01, -1.0197e+00,\n",
       "          1.2901e+00,  5.8076e-01,  7.1176e-01, -6.5763e-01, -5.9056e-01,\n",
       "         -2.5500e-01, -8.4876e-01, -3.8382e-02,  8.2651e-01,  1.4146e+00,\n",
       "          8.0304e-01, -4.9107e-01,  1.1333e+00, -1.8350e+00, -1.1209e+00,\n",
       "         -2.8746e-01,  5.2602e-01, -7.9383e-01,  9.5940e-01, -9.6279e-01,\n",
       "          5.5795e-02, -7.0160e-01, -7.5122e-01,  9.6725e-01, -2.2505e+00,\n",
       "         -7.0351e-01,  7.7062e-01,  1.8789e+00,  8.1196e-01,  1.4776e+00,\n",
       "         -4.5853e-01,  6.3852e-01,  6.4161e-01, -5.8462e-01,  6.0142e-01,\n",
       "         -5.2925e-02,  1.1246e+00,  1.6874e-01,  5.2046e-01, -6.9144e-02,\n",
       "          9.4762e-01, -1.2627e+00,  1.9074e-01, -8.0862e-01, -7.2335e-01,\n",
       "         -1.2579e+00,  1.0495e+00, -1.0130e+00, -5.8087e-01,  3.9476e-02,\n",
       "          2.0537e+00,  8.3474e-01, -1.4753e+00, -6.3883e-01,  5.0047e-01,\n",
       "          3.2394e-01,  1.6964e+00,  1.7447e-01, -1.6452e+00, -1.2369e-01,\n",
       "          2.8181e+00,  1.0296e+00,  4.2545e-02, -1.0905e+00,  9.2777e-02,\n",
       "         -1.1732e+00, -1.6136e-01, -6.4774e-01,  6.3062e-01, -1.9857e+00,\n",
       "         -1.0943e+00,  6.4097e-01, -1.6018e-01,  2.2593e+00,  1.1633e+00,\n",
       "          3.2146e+00, -2.5530e+00, -1.3884e+00,  2.5905e+00, -2.7617e+00,\n",
       "          1.1628e+00,  1.1391e+00,  1.3585e+00,  2.7925e-01,  7.5915e-01,\n",
       "         -1.7962e+00, -4.3295e-01,  4.1285e-01, -1.9896e+00, -1.4071e+00,\n",
       "          7.6324e-01, -1.7184e-01,  4.7736e-01,  1.6661e+00, -2.2120e-03,\n",
       "         -5.7536e-01, -7.5663e-01, -7.2594e-01, -6.8328e-01,  1.6597e+00,\n",
       "         -2.8048e-01, -5.9334e-01, -3.2825e-01, -2.8855e-01,  2.6434e+00,\n",
       "          3.0934e-01,  2.1060e-03, -1.1458e+00,  6.8313e-01, -1.6125e+00,\n",
       "         -1.7135e+00, -1.4081e+00, -1.1763e+00, -1.6052e+00,  1.2417e+00,\n",
       "         -3.8812e-01, -1.1406e+00,  1.6389e+00, -1.0012e+00,  1.6940e+00,\n",
       "         -3.5933e-01,  8.0718e-01, -2.6265e+00,  1.4532e+00,  1.1037e+00,\n",
       "         -1.4823e+00,  9.4141e-01, -1.2129e+00, -3.6579e-01, -6.4472e-01,\n",
       "          3.0432e+00, -5.8379e-02, -2.1250e+00, -3.7628e-01,  1.2109e+00,\n",
       "          5.7007e-01,  1.8380e+00,  5.5370e-01,  1.1617e-01, -8.5161e-01,\n",
       "          1.3175e-01,  1.4155e-02, -3.7872e-01, -2.1041e+00,  3.7852e-01,\n",
       "         -5.5620e-01,  3.8295e+00, -4.4303e-01,  2.3252e+00, -2.1660e+00,\n",
       "          2.3330e+00, -3.6189e-01, -1.5552e+00,  3.1784e-01,  1.4169e+00,\n",
       "          1.0676e+00,  3.5897e-01, -8.7877e-01, -3.3035e-01, -6.4321e-01,\n",
       "         -1.7454e+00,  8.2199e-01,  3.0573e+00,  1.6145e+00,  8.7096e-02,\n",
       "         -6.5767e-01, -2.7473e-01,  5.2405e-01, -1.4240e+00,  1.1054e+00],\n",
       "        requires_grad=True),\n",
       " tensor([[-0.2824, -0.1228, -0.6162,  ...,  0.5155,  0.2402, -0.0990],\n",
       "         [ 0.0499, -0.2450, -0.8267,  ...,  0.4428,  0.2078,  0.5270],\n",
       "         [ 0.0015,  0.5950,  0.3950,  ...,  0.6171,  0.3019,  0.6392],\n",
       "         ...,\n",
       "         [-0.3913, -0.0423, -0.0612,  ..., -0.8149, -0.1112,  0.0808],\n",
       "         [-0.2201, -0.3364, -1.1176,  ..., -0.2819, -0.3036, -0.6067],\n",
       "         [-0.0719, -0.3852, -0.0351,  ..., -0.0837, -0.0842, -0.1221]],\n",
       "        requires_grad=True),\n",
       " tensor([ 0.2781,  1.5293,  1.8387,  0.4773,  1.6458,  0.2851, -1.0765,  0.1082,\n",
       "          1.4544, -0.5121, -1.5369, -1.4136,  0.6631,  0.5980,  1.4004,  1.0303,\n",
       "         -2.5630,  1.2415,  0.1022, -0.4340,  1.3988, -1.6971,  0.8134,  0.0345,\n",
       "          0.3559, -1.0267, -0.3554], requires_grad=True)]"
      ]
     },
     "execution_count": 160,
     "metadata": {},
     "output_type": "execute_result"
    }
   ],
   "source": [
    "train(Xtr, Ytr, parameters, 64)"
   ]
  },
  {
   "cell_type": "code",
   "execution_count": 162,
   "metadata": {},
   "outputs": [
    {
     "name": "stdout",
     "output_type": "stream",
     "text": [
      "tensor(2.1015, grad_fn=<NllLossBackward0>)\n",
      "tensor(2.1510, grad_fn=<NllLossBackward0>)\n"
     ]
    },
    {
     "data": {
      "text/plain": [
       "tensor(2.1510, grad_fn=<NllLossBackward0>)"
      ]
     },
     "execution_count": 162,
     "metadata": {},
     "output_type": "execute_result"
    }
   ],
   "source": [
    "benchmark(Xtr, Ytr, parameters)\n",
    "benchmark(Xdev, Ydev, parameters)"
   ]
  },
  {
   "cell_type": "code",
   "execution_count": 164,
   "metadata": {},
   "outputs": [
    {
     "data": {
      "image/png": "[encoded data removed]",
      "text/plain": [
       "<Figure size 640x480 with 1 Axes>"
      ]
     },
     "metadata": {},
     "output_type": "display_data"
    }
   ],
   "source": [
    "stats_plot(stepi, lossi)"
   ]
  },
  {
   "cell_type": "code",
   "execution_count": 165,
   "metadata": {},
   "outputs": [
    {
     "name": "stdout",
     "output_type": "stream",
     "text": [
      "sir\n",
      "giely\n",
      "kit\n",
      "abyonny\n",
      "eluna\n",
      "szaymerion\n",
      "nivanne\n",
      "malaser\n",
      "leigh\n",
      "dussa\n"
     ]
    }
   ],
   "source": [
    "predict(parameters, 10)"
   ]
  },
  {
   "cell_type": "code",
   "execution_count": null,
   "metadata": {},
   "outputs": [],
   "source": []
  }
 ],
 "metadata": {
  "kernelspec": {
   "display_name": ".venv",
   "language": "python",
   "name": "python3"
  },
  "language_info": {
   "codemirror_mode": {
    "name": "ipython",
    "version": 3
   },
   "file_extension": ".py",
   "mimetype": "text/x-python",
   "name": "python",
   "nbconvert_exporter": "python",
   "pygments_lexer": "ipython3",
   "version": "3.10.10"
  },
  "orig_nbformat": 4
 },
 "nbformat": 4,
 "nbformat_minor": 2
}
